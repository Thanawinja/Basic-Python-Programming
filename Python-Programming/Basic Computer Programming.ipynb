{
 "cells": [
  {
   "cell_type": "markdown",
   "id": "d791f210",
   "metadata": {},
   "source": [
    "Data and Types"
   ]
  },
  {
   "cell_type": "code",
   "execution_count": 1,
   "id": "84f4e6ac",
   "metadata": {},
   "outputs": [
    {
     "name": "stdout",
     "output_type": "stream",
     "text": [
      "13\n",
      "0\n"
     ]
    }
   ],
   "source": [
    "# จำนวนเต็ม (Integers) >> int\n",
    "\n",
    "1\n",
    "-20\n",
    "14\n",
    "\n",
    "print(3 + 2 * 5)\n",
    "print(-20 + 20)"
   ]
  },
  {
   "cell_type": "code",
   "execution_count": 2,
   "id": "eb24b2dd",
   "metadata": {},
   "outputs": [
    {
     "name": "stdout",
     "output_type": "stream",
     "text": [
      "300.0\n",
      "2.0\n"
     ]
    }
   ],
   "source": [
    "# จำนวนจริง (Floating Numbers) >> float\n",
    "\n",
    "3.14159\n",
    "0.145E7\n",
    "7.78\n",
    "\n",
    "print(3E2)\n",
    "print(14.2 / 7.1)\n"
   ]
  },
  {
   "cell_type": "code",
   "execution_count": 3,
   "id": "b14859e6",
   "metadata": {},
   "outputs": [
    {
     "name": "stdout",
     "output_type": "stream",
     "text": [
      "Hello world!\n",
      "Data1\n"
     ]
    }
   ],
   "source": [
    "# ตัวอักษร (Strings) >> str\n",
    "\n",
    "\"Data Analyst\"\n",
    "'Data Scientist'\n",
    "\"3.14\"\n",
    "\n",
    "print(\"Hello world!\")\n",
    "print(\"Data\" + '1')"
   ]
  },
  {
   "cell_type": "code",
   "execution_count": 4,
   "id": "3099b8fd",
   "metadata": {},
   "outputs": [
    {
     "name": "stdout",
     "output_type": "stream",
     "text": [
      "True\n",
      "False\n"
     ]
    }
   ],
   "source": [
    "# ค่าความจริง (Boolean)\n",
    "\n",
    "True\n",
    "False\n",
    "\n",
    "print(2 == 2)\n",
    "print(2 > 4)"
   ]
  },
  {
   "cell_type": "code",
   "execution_count": 5,
   "id": "314e33be",
   "metadata": {},
   "outputs": [
    {
     "name": "stdout",
     "output_type": "stream",
     "text": [
      "2\n",
      "3\n",
      "4\n",
      "36\n",
      "1\n",
      "1\n",
      "6\n"
     ]
    }
   ],
   "source": [
    "# ตัวกระทำ (Operators)\n",
    "\n",
    "# บวก +\n",
    "# ลบ -\n",
    "# คูณ *\n",
    "# หาร /\n",
    "# หารไม่เอาเศษ //\n",
    "# หารเอาแต่เศษ %\n",
    "# ยกกำลัง **\n",
    "# ลำดับการทำงาน หรือ priority >> PEMDAS\n",
    "\n",
    "print(1 + 1)\n",
    "print(5 - 2)\n",
    "print(2 * 2)\n",
    "print(12 * 3)\n",
    "print(5 // 3)\n",
    "print(3 % 2)\n",
    "print(3 * 2)"
   ]
  },
  {
   "cell_type": "code",
   "execution_count": 6,
   "id": "3496cf69",
   "metadata": {},
   "outputs": [
    {
     "name": "stdout",
     "output_type": "stream",
     "text": [
      "True\n",
      "False\n",
      "True\n",
      "False\n",
      "False\n",
      "True\n"
     ]
    }
   ],
   "source": [
    "# การเปรียบเทียบ (Relational Operators)\n",
    "\n",
    "# มากกว่า >\n",
    "# น้อยกว่า <\n",
    "# มากกว่าเท่ากับ >=\n",
    "# น้อยกว่าเท่ากับ >=\n",
    "# เท่ากับ ==\n",
    "# ไม่เท่ากับ !=\n",
    "# ผลที่ได้จะเป็น Boolean\n",
    "print(3 > 2)\n",
    "print(3 < 2)\n",
    "print(3 >= 2)\n",
    "print(3 <= 2)\n",
    "print(3 == 2)\n",
    "print(3 != 2)\n"
   ]
  },
  {
   "cell_type": "code",
   "execution_count": 7,
   "id": "4c92238c",
   "metadata": {},
   "outputs": [],
   "source": [
    "# ตัวกระทำทางตรรกศาสตร์ (Logical Operators)\n",
    "\n",
    "# ไม่ not\n",
    "# และ and\n",
    "# หรือ or"
   ]
  },
  {
   "cell_type": "code",
   "execution_count": 8,
   "id": "f03e54ff",
   "metadata": {},
   "outputs": [],
   "source": [
    "# คอมเมนต์ (Comment) \n",
    "\n",
    "# ใช้เครื่องหมาย # หน้าข้อตวามที่ไม่ต้องการให้ run code"
   ]
  },
  {
   "cell_type": "code",
   "execution_count": 9,
   "id": "02a97a2b",
   "metadata": {},
   "outputs": [
    {
     "ename": "ModuleNotFoundError",
     "evalue": "No module named 'pandas'",
     "output_type": "error",
     "traceback": [
      "\u001b[1;31m---------------------------------------------------------------------------\u001b[0m",
      "\u001b[1;31mModuleNotFoundError\u001b[0m                       Traceback (most recent call last)",
      "Cell \u001b[1;32mIn[9], line 6\u001b[0m\n\u001b[0;32m      3\u001b[0m \u001b[39mimport\u001b[39;00m \u001b[39mmath\u001b[39;00m \u001b[39mas\u001b[39;00m \u001b[39mm\u001b[39;00m \u001b[39m# คำสั่ง import เป็นคำสั่งที่ใช้ในการนำเข้าโมดูลต่างๆ\u001b[39;00m\n\u001b[0;32m      5\u001b[0m \u001b[39mfrom\u001b[39;00m \u001b[39mstatistics\u001b[39;00m \u001b[39mimport\u001b[39;00m \u001b[39m*\u001b[39m \u001b[39m# import โมดูลที่สำคัญในงานเชิงสถิติ\u001b[39;00m\n\u001b[1;32m----> 6\u001b[0m \u001b[39mimport\u001b[39;00m \u001b[39mpandas\u001b[39;00m \u001b[39mas\u001b[39;00m \u001b[39mpd\u001b[39;00m\n\u001b[0;32m      7\u001b[0m \u001b[39mimport\u001b[39;00m \u001b[39mnumpy\u001b[39;00m \u001b[39mas\u001b[39;00m \u001b[39mnp\u001b[39;00m\n\u001b[0;32m      8\u001b[0m \u001b[39mimport\u001b[39;00m \u001b[39mseaborn\u001b[39;00m \u001b[39mas\u001b[39;00m \u001b[39msns\u001b[39;00m\n",
      "\u001b[1;31mModuleNotFoundError\u001b[0m: No module named 'pandas'"
     ]
    }
   ],
   "source": [
    "# ฟังก์ชัน (Function)\n",
    "\n",
    "import math as m # คำสั่ง import เป็นคำสั่งที่ใช้ในการนำเข้าโมดูลต่างๆ\n",
    "\n",
    "from statistics import * # import โมดูลที่สำคัญในงานเชิงสถิติ\n",
    "import pandas as pd\n",
    "import numpy as np\n",
    "import seaborn as sns\n",
    "import matplotlib.pyplot as plt\n",
    "\n",
    "# เราสามารถใช้บางฟังก์ชันใน python โดยไม่ต้อง import เช่น\n",
    "A = input(\"Enter your name:\") \n",
    "print(A) # คำสั่งแสดงผล\n",
    "print(type(A)) # คำสั่งดูชนิดตัวแปร\n",
    "B = 3.00\n",
    "print(int(B)) # คำสั่งเปลี่ยนชนิดตัวแปรเป็นจำนวนเต็ม\n",
    "print(float(B)) # คำสั่งเปลี่ยนชนิดตัวแปรเป็นจำนวนจริง\n",
    "print(str(B)) # คำสั่งเปลี่ยนชนิดตัวแปรเป็นตัวอักษร\n",
    "C = ' 123abc 455def'\n",
    "print(len(C)) # คำสั่งดูขนาด\n",
    "print(C.strip()) # คำสั่งตัดช่องว่างก่อนและหลัง string ทั้งหมด\n",
    "print(C.split()) # คำสั่งตัด string โดยมีผลลัพธ์เป็น list\n"
   ]
  },
  {
   "cell_type": "markdown",
   "id": "45a5da68",
   "metadata": {},
   "source": [
    "If"
   ]
  },
  {
   "cell_type": "code",
   "execution_count": null,
   "id": "53569507",
   "metadata": {},
   "outputs": [
    {
     "name": "stdout",
     "output_type": "stream",
     "text": [
      "Enter: 3\n",
      "3 is an odd number\n"
     ]
    }
   ],
   "source": [
    "# การเขียนเงื่อนไข (If-Else)\n",
    "\n",
    "# รับค่าจำนวนเต็มและตรวจสอบว่าเป็นเลขคู่หรือเลขคี่\n",
    "x = int(input(\"Enter: \"))\n",
    "if x % 2 == 0:\n",
    "    print(x , \"is an even number\")\n",
    "else:\n",
    "    print(x , \"is an odd number\")"
   ]
  },
  {
   "cell_type": "code",
   "execution_count": null,
   "id": "4361ca72",
   "metadata": {},
   "outputs": [
    {
     "name": "stdout",
     "output_type": "stream",
     "text": [
      "Score: 62\n",
      "C\n"
     ]
    }
   ],
   "source": [
    "# การเขียนเงื่อนไข (If-Elif-Else)\n",
    "\n",
    "# คำนวณเกรด\n",
    "score = int(input(\"Score: \"))\n",
    "if score >= 80:\n",
    "    print(\"A\")\n",
    "elif score >= 75:\n",
    "    print(\"B+\")\n",
    "elif score >= 70:\n",
    "    print(\"B\")\n",
    "elif score >= 65:\n",
    "    print(\"C+\")\n",
    "elif score >= 60:\n",
    "    print(\"C\")\n",
    "elif score >= 55:\n",
    "    print(\"D+\")\n",
    "elif score >= 50:\n",
    "    print(\"D\") \n",
    "else:\n",
    "    print(\"F\")\n",
    "    "
   ]
  },
  {
   "cell_type": "markdown",
   "id": "c4419a7f",
   "metadata": {},
   "source": [
    "Loop"
   ]
  },
  {
   "cell_type": "code",
   "execution_count": null,
   "id": "905639ec",
   "metadata": {},
   "outputs": [],
   "source": [
    "# การทำซ้ำแบบ while (While Loop)\n",
    "\n",
    "# รับตัวเลข password เข้ามา โดยให้หยุดการทำงานจนกว่าจะกรอกถูก (จำนวนรอบการทำซ้ำที่ไม่แน่นอน)\n",
    "pw = int(input())\n",
    "while pw != 1412:\n",
    "    print(\"Not correct\")\n",
    "    pw = int(input())\n",
    "print(\"Correct\")\n",
    "\n",
    "# แสดงค่าสูตรคูณของแม่ 3 (จำนวนรอบการทำซ้ำที่แน่นอน)\n",
    "x = 1\n",
    "while x <= 12:\n",
    "    print('3 x' , x , \"=\" , 3 * x)\n",
    "    x = x + 1\n"
   ]
  },
  {
   "cell_type": "code",
   "execution_count": null,
   "id": "1bdf7ee1",
   "metadata": {},
   "outputs": [
    {
     "name": "stdout",
     "output_type": "stream",
     "text": [
      "2 x 1 = 2\n",
      "2 x 2 = 4\n",
      "2 x 3 = 6\n",
      "2 x 4 = 8\n",
      "2 x 5 = 10\n",
      "2 x 6 = 12\n",
      "2 x 7 = 14\n",
      "2 x 8 = 16\n",
      "2 x 9 = 18\n",
      "2 x 10 = 20\n",
      "2 x 11 = 22\n",
      "2 x 12 = 24\n",
      "3 x 1 = 3\n",
      "3 x 2 = 6\n",
      "3 x 3 = 9\n",
      "3 x 4 = 12\n",
      "3 x 5 = 15\n",
      "3 x 6 = 18\n",
      "3 x 7 = 21\n",
      "3 x 8 = 24\n",
      "3 x 9 = 27\n",
      "3 x 10 = 30\n",
      "3 x 11 = 33\n",
      "3 x 12 = 36\n",
      "5 x 1 = 5\n",
      "5 x 2 = 10\n",
      "5 x 3 = 15\n",
      "5 x 4 = 20\n",
      "5 x 5 = 25\n",
      "5 x 6 = 30\n",
      "5 x 7 = 35\n",
      "5 x 8 = 40\n",
      "5 x 9 = 45\n",
      "5 x 10 = 50\n",
      "5 x 11 = 55\n",
      "5 x 12 = 60\n",
      "6 x 1 = 6\n",
      "6 x 2 = 12\n",
      "6 x 3 = 18\n",
      "6 x 4 = 24\n",
      "6 x 5 = 30\n",
      "6 x 6 = 36\n",
      "6 x 7 = 42\n",
      "6 x 8 = 48\n",
      "6 x 9 = 54\n",
      "6 x 10 = 60\n",
      "6 x 11 = 66\n",
      "6 x 12 = 72\n",
      "7 x 1 = 7\n",
      "7 x 2 = 14\n",
      "7 x 3 = 21\n",
      "7 x 4 = 28\n",
      "7 x 5 = 35\n",
      "7 x 6 = 42\n",
      "7 x 7 = 49\n",
      "7 x 8 = 56\n",
      "7 x 9 = 63\n",
      "7 x 10 = 70\n",
      "7 x 11 = 77\n",
      "7 x 12 = 84\n",
      "8 x 1 = 8\n",
      "8 x 2 = 16\n",
      "8 x 3 = 24\n",
      "8 x 4 = 32\n",
      "8 x 5 = 40\n",
      "8 x 6 = 48\n",
      "8 x 7 = 56\n",
      "8 x 8 = 64\n",
      "8 x 9 = 72\n",
      "8 x 10 = 80\n",
      "8 x 11 = 88\n",
      "8 x 12 = 96\n"
     ]
    }
   ],
   "source": [
    "# คำสั่งเบรก (Break) \n",
    "\n",
    "# เป็นคำสั่งให้หยุดการวนซ้ำทันที โดยไม่ทำคำสั่งอื่นที่เหลืออยู่ใน loop body อีก โดยมักจะมีการตรวจสอบเงื่อนไขด้วยคำสั่ง if\n",
    "\n",
    "# แสดงค่าสูตรคูณของแม่ 2 ถึง 8 โดยยกเว้น แม่ 4\n",
    "x = 2\n",
    "while x <= 8:\n",
    "    y = 1\n",
    "    while y <= 12:\n",
    "        if x == 4:\n",
    "            break\n",
    "        print (x, 'x', y, '=', x*y)\n",
    "        y = y + 1\n",
    "    x = x + 1\n"
   ]
  },
  {
   "cell_type": "markdown",
   "id": "c484f8c9",
   "metadata": {},
   "source": [
    "For"
   ]
  },
  {
   "cell_type": "code",
   "execution_count": null,
   "id": "78ed2c2a",
   "metadata": {},
   "outputs": [
    {
     "name": "stdout",
     "output_type": "stream",
     "text": [
      "2\n",
      "4\n",
      "6\n",
      "8\n",
      "10\n",
      "12\n",
      "14\n",
      "16\n",
      "18\n",
      "20\n"
     ]
    }
   ],
   "source": [
    "# การทำซ้ำแบบ for (For Loop)\n",
    "\n",
    "# ใช้ในการแจกแจงสมาชิกในข้อมูลแบบกลุ่ม มีตัวแปร 1 ตัว สำหรับเชื่อมกับค่าของสมาชิกในกลุ่ม\n",
    "\n",
    "# ฟังก์ชัน range -> range(start,end,step)\n",
    "# แสดงผลคูณของ 2 กับ i โดย i เริ่มตั้งแต่ 1 ถึง 10\n",
    "x = 2\n",
    "for i in range(1,11):  # รัน i ทั้งหมด 10 รอบ \n",
    "    y = x * i\n",
    "    print(y)\n",
    "    \n",
    "            \n"
   ]
  },
  {
   "cell_type": "code",
   "execution_count": null,
   "id": "d4a1ae32",
   "metadata": {},
   "outputs": [],
   "source": [
    "Function"
   ]
  },
  {
   "cell_type": "code",
   "execution_count": null,
   "id": "610aa8fc",
   "metadata": {},
   "outputs": [
    {
     "name": "stdout",
     "output_type": "stream",
     "text": [
      "91\n"
     ]
    }
   ],
   "source": [
    "# การสร้างฟังก์ชัน\n",
    "\n",
    "# ฟังก์ชันผลบวกเลขคณิตตั้งแต่ 1 ถึง n\n",
    "def sum(n):\n",
    "    s = 0\n",
    "    i = 1\n",
    "    while i <= n:\n",
    "        s = s + i\n",
    "        i = i + 1\n",
    "    return s  # ถ้าไม่ใส่คำสั่ง return จะไม่คืนค่ากลับ\n",
    "print(sum(13))\n"
   ]
  },
  {
   "cell_type": "markdown",
   "id": "64795a84",
   "metadata": {},
   "source": [
    "List"
   ]
  },
  {
   "cell_type": "code",
   "execution_count": 10,
   "id": "c3d4a246",
   "metadata": {},
   "outputs": [
    {
     "name": "stdout",
     "output_type": "stream",
     "text": [
      "4\n"
     ]
    }
   ],
   "source": [
    "# เป็นชนิดของข้อมูลซึ่งประกอบด้วยสมาชิกเรียงกันเป็นลำดับ \n",
    "# สมาชิกแต่ละตัวไม่จำเป็นต้องเป็นชนิดเดียวกัน\n",
    "# เขียนสมาชิกอยู่ภายใน [] โดยสมาชิกแต่ละตัวคั่นด้วย ,\n",
    "# สมาชิกแต่ละตัวจะถูกเก็บเป็นเลขดัชนีเป็นจำนวนเต็ม โดยดัชนีตัวแรก คือ 0 และดัชนีตัวสุดท้าย คือ -1\n",
    "data = ['Physics', 3.5, True, \"Chula\"]\n",
    "print(len(data)) # คำสั่งดูขนาด (ดูจำนวนสมาชิก)"
   ]
  },
  {
   "cell_type": "code",
   "execution_count": 11,
   "id": "d3b74912",
   "metadata": {},
   "outputs": [
    {
     "name": "stdout",
     "output_type": "stream",
     "text": [
      "bias\n"
     ]
    }
   ],
   "source": [
    "# ดัชนีใน List\n",
    "data = ['bias', 'Jonathan', 1412]\n",
    "print(data[0])"
   ]
  }
 ],
 "metadata": {
  "kernelspec": {
   "display_name": "Python 3",
   "language": "python",
   "name": "python3"
  },
  "language_info": {
   "codemirror_mode": {
    "name": "ipython",
    "version": 3
   },
   "file_extension": ".py",
   "mimetype": "text/x-python",
   "name": "python",
   "nbconvert_exporter": "python",
   "pygments_lexer": "ipython3",
   "version": "3.11.1"
  },
  "vscode": {
   "interpreter": {
    "hash": "de47f5c92c0ee6f12a59a5613ac5feff6aab19ddff207ba0b3964cced08c4ccc"
   }
  }
 },
 "nbformat": 4,
 "nbformat_minor": 5
}
